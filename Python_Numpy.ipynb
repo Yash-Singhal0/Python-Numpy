{
 "cells": [
  {
   "cell_type": "markdown",
   "id": "0af3a26c-6d53-4138-99d2-432c3b5be566",
   "metadata": {},
   "source": [
    "# install python from google \n",
    "\n",
    "# Go window powershell terminal for install the numpy library & jupyter notebook\n",
    "\n",
    "# pip install numpy    for install the python library\n",
    "# pip install jupyter noteboke    for install the jupyter notebook\n",
    "\n",
    "# After install the python library and Junyper notebook go jupyter notebook and create the new Python file\n",
    "\n",
    "# import numpy as np     for import the numpy library\n"
   ]
  },
  {
   "cell_type": "markdown",
   "id": "6d166067-49ce-48ff-9e39-3872537c4ac3",
   "metadata": {},
   "source": [
    "# NumPy is a library for the Python programming language, adding support for large, multi-dimensional arrays and matrices, along with a large collection of high-level mathematical functions to operate on these arrays.\n",
    "# NumPy is a Python library used for working with arrays. At the core of the NumPy package, is the ndarray object. This encapsulates n-dimensional arrays of homogeneous data types, with many operations being performed ..."
   ]
  },
  {
   "cell_type": "code",
   "execution_count": 1,
   "id": "3174e38a-a3ac-4c4e-9227-680a3c288579",
   "metadata": {},
   "outputs": [],
   "source": [
    " import numpy as np"
   ]
  },
  {
   "cell_type": "code",
   "execution_count": 2,
   "id": "bb6e60cc-e228-4e97-a846-235a4ecdfcc8",
   "metadata": {},
   "outputs": [],
   "source": [
    "ar = np.array([2,7,1,9,5])"
   ]
  },
  {
   "cell_type": "code",
   "execution_count": 3,
   "id": "a2b7ea6f-655d-4a42-b375-8688fec71cbe",
   "metadata": {},
   "outputs": [
    {
     "data": {
      "text/plain": [
       "array([2, 7, 1, 9, 5])"
      ]
     },
     "execution_count": 3,
     "metadata": {},
     "output_type": "execute_result"
    }
   ],
   "source": [
    "ar"
   ]
  },
  {
   "cell_type": "code",
   "execution_count": 4,
   "id": "9063d534-caf7-4c50-8545-8a40954b434f",
   "metadata": {},
   "outputs": [
    {
     "name": "stdout",
     "output_type": "stream",
     "text": [
      "Hello World\n"
     ]
    }
   ],
   "source": [
    "print(\"Hello World\")"
   ]
  },
  {
   "cell_type": "code",
   "execution_count": 5,
   "id": "7f3bf260-47eb-4889-b1f0-eaee71cb953e",
   "metadata": {},
   "outputs": [
    {
     "data": {
      "text/plain": [
       "2"
      ]
     },
     "execution_count": 5,
     "metadata": {},
     "output_type": "execute_result"
    }
   ],
   "source": [
    "ar[0]"
   ]
  },
  {
   "cell_type": "code",
   "execution_count": 6,
   "id": "6448e195-766b-47a3-b884-1b4ee3e2c2c6",
   "metadata": {},
   "outputs": [
    {
     "data": {
      "text/plain": [
       "9"
      ]
     },
     "execution_count": 6,
     "metadata": {},
     "output_type": "execute_result"
    }
   ],
   "source": [
    "ar[3]"
   ]
  },
  {
   "cell_type": "code",
   "execution_count": 7,
   "id": "0d74a5e4-0edc-41c4-812a-fb0d1c8feff4",
   "metadata": {},
   "outputs": [
    {
     "data": {
      "text/plain": [
       "8"
      ]
     },
     "execution_count": 7,
     "metadata": {},
     "output_type": "execute_result"
    }
   ],
   "source": [
    "ar[1]+ar[2]"
   ]
  },
  {
   "cell_type": "code",
   "execution_count": 8,
   "id": "bffa5de3-0cbb-48cc-bf9a-b7ca759766f0",
   "metadata": {},
   "outputs": [
    {
     "data": {
      "text/plain": [
       "dtype('int32')"
      ]
     },
     "execution_count": 8,
     "metadata": {},
     "output_type": "execute_result"
    }
   ],
   "source": [
    "ar.dtype"
   ]
  },
  {
   "cell_type": "code",
   "execution_count": 9,
   "id": "6f32fd8d-9fe7-4f09-a636-6b8c508264f3",
   "metadata": {},
   "outputs": [],
   "source": [
    "myar = np.array([1,4,3,6,9], np.int8)"
   ]
  },
  {
   "cell_type": "code",
   "execution_count": 10,
   "id": "b1af92e5-d697-49cc-bf7d-e59f739e8446",
   "metadata": {},
   "outputs": [
    {
     "data": {
      "text/plain": [
       "array([1, 4, 3, 6, 9], dtype=int8)"
      ]
     },
     "execution_count": 10,
     "metadata": {},
     "output_type": "execute_result"
    }
   ],
   "source": [
    "myar"
   ]
  },
  {
   "cell_type": "code",
   "execution_count": 11,
   "id": "8f6bffa5-712b-4602-a834-18704bc59752",
   "metadata": {},
   "outputs": [],
   "source": [
    "ar1 = np.array([[12,33,42,56,63]])"
   ]
  },
  {
   "cell_type": "code",
   "execution_count": 12,
   "id": "9ee1cbf4-bf76-4f5b-b33f-713732e8c7bd",
   "metadata": {},
   "outputs": [
    {
     "data": {
      "text/plain": [
       "array([[12, 33, 42, 56, 63]])"
      ]
     },
     "execution_count": 12,
     "metadata": {},
     "output_type": "execute_result"
    }
   ],
   "source": [
    "ar1"
   ]
  },
  {
   "cell_type": "code",
   "execution_count": 13,
   "id": "fc9a6209-819d-46d6-9dbf-665ca9492dcc",
   "metadata": {},
   "outputs": [
    {
     "data": {
      "text/plain": [
       "33"
      ]
     },
     "execution_count": 13,
     "metadata": {},
     "output_type": "execute_result"
    }
   ],
   "source": [
    "ar1[0,1]"
   ]
  },
  {
   "cell_type": "code",
   "execution_count": 14,
   "id": "a73c3ad7-a6bc-4030-ba0b-a958bdccfd5d",
   "metadata": {},
   "outputs": [
    {
     "data": {
      "text/plain": [
       "56"
      ]
     },
     "execution_count": 14,
     "metadata": {},
     "output_type": "execute_result"
    }
   ],
   "source": [
    "ar1[0,3]"
   ]
  },
  {
   "cell_type": "code",
   "execution_count": 15,
   "id": "e235bc9d-7e88-4e18-beeb-7555b4efe7d9",
   "metadata": {},
   "outputs": [
    {
     "data": {
      "text/plain": [
       "(1, 5)"
      ]
     },
     "execution_count": 15,
     "metadata": {},
     "output_type": "execute_result"
    }
   ],
   "source": [
    "ar1.shape"
   ]
  },
  {
   "cell_type": "code",
   "execution_count": 16,
   "id": "ad030c56-1297-4abd-8db5-f71fbccc3f3b",
   "metadata": {},
   "outputs": [
    {
     "data": {
      "text/plain": [
       "dtype('int32')"
      ]
     },
     "execution_count": 16,
     "metadata": {},
     "output_type": "execute_result"
    }
   ],
   "source": [
    "ar1.dtype"
   ]
  },
  {
   "cell_type": "code",
   "execution_count": 17,
   "id": "fb4b1d9a-2753-48fa-b503-d8492bcef76d",
   "metadata": {},
   "outputs": [],
   "source": [
    "ar1[0,0] = 99 "
   ]
  },
  {
   "cell_type": "code",
   "execution_count": 18,
   "id": "f9893ead-8edb-4bb7-95ff-01a946766b70",
   "metadata": {},
   "outputs": [
    {
     "data": {
      "text/plain": [
       "array([[99, 33, 42, 56, 63]])"
      ]
     },
     "execution_count": 18,
     "metadata": {},
     "output_type": "execute_result"
    }
   ],
   "source": [
    "ar1"
   ]
  },
  {
   "cell_type": "code",
   "execution_count": 19,
   "id": "3ba83ef9-c192-42f8-b7e1-b9ed8449db49",
   "metadata": {},
   "outputs": [
    {
     "data": {
      "text/plain": [
       "5"
      ]
     },
     "execution_count": 19,
     "metadata": {},
     "output_type": "execute_result"
    }
   ],
   "source": [
    "ar1.size"
   ]
  },
  {
   "cell_type": "code",
   "execution_count": 20,
   "id": "b5ddf63f-1fdd-42c0-b9cc-6c40b0225b45",
   "metadata": {},
   "outputs": [],
   "source": [
    "listar = np.array([[2,4,4],[6,7,3],[8,3,1]])"
   ]
  },
  {
   "cell_type": "code",
   "execution_count": 21,
   "id": "96de17fb-2d4f-4ad6-92d2-8a19c4064dec",
   "metadata": {},
   "outputs": [
    {
     "data": {
      "text/plain": [
       "array([[2, 4, 4],\n",
       "       [6, 7, 3],\n",
       "       [8, 3, 1]])"
      ]
     },
     "execution_count": 21,
     "metadata": {},
     "output_type": "execute_result"
    }
   ],
   "source": [
    "listar"
   ]
  },
  {
   "cell_type": "code",
   "execution_count": 22,
   "id": "64908f6a-9930-490b-9792-702031230d00",
   "metadata": {},
   "outputs": [
    {
     "data": {
      "text/plain": [
       "dtype('int32')"
      ]
     },
     "execution_count": 22,
     "metadata": {},
     "output_type": "execute_result"
    }
   ],
   "source": [
    "listar.dtype"
   ]
  },
  {
   "cell_type": "code",
   "execution_count": 23,
   "id": "ba584d73-a309-4147-b0a1-9dd6930aec8c",
   "metadata": {},
   "outputs": [
    {
     "data": {
      "text/plain": [
       "9"
      ]
     },
     "execution_count": 23,
     "metadata": {},
     "output_type": "execute_result"
    }
   ],
   "source": [
    "listar.size"
   ]
  },
  {
   "cell_type": "code",
   "execution_count": 24,
   "id": "9cf2edc2-5048-43b4-883f-da9c847c8e72",
   "metadata": {},
   "outputs": [
    {
     "data": {
      "text/plain": [
       "(3, 3)"
      ]
     },
     "execution_count": 24,
     "metadata": {},
     "output_type": "execute_result"
    }
   ],
   "source": [
    "listar.shape"
   ]
  },
  {
   "cell_type": "code",
   "execution_count": 25,
   "id": "cd05ccec-89bd-4ef2-9ae3-b2bae42c7b66",
   "metadata": {},
   "outputs": [],
   "source": [
    "listar[1,0] = 9 "
   ]
  },
  {
   "cell_type": "code",
   "execution_count": 26,
   "id": "748ddd46-826c-4a30-8d9e-4f39f05056af",
   "metadata": {},
   "outputs": [
    {
     "data": {
      "text/plain": [
       "array([[2, 4, 4],\n",
       "       [9, 7, 3],\n",
       "       [8, 3, 1]])"
      ]
     },
     "execution_count": 26,
     "metadata": {},
     "output_type": "execute_result"
    }
   ],
   "source": [
    "listar"
   ]
  },
  {
   "cell_type": "code",
   "execution_count": 27,
   "id": "841146f3-6243-49df-a683-bd5fd3c5b4f0",
   "metadata": {},
   "outputs": [
    {
     "data": {
      "text/plain": [
       "array([[2, 9, 8],\n",
       "       [4, 7, 3],\n",
       "       [4, 3, 1]])"
      ]
     },
     "execution_count": 27,
     "metadata": {},
     "output_type": "execute_result"
    }
   ],
   "source": [
    "listar.T"
   ]
  },
  {
   "cell_type": "code",
   "execution_count": 28,
   "id": "eb204b90-20e3-43e5-8c6b-5fa9c3477769",
   "metadata": {},
   "outputs": [
    {
     "data": {
      "text/plain": [
       "array([[2, 4, 4],\n",
       "       [9, 7, 3],\n",
       "       [8, 3, 1]])"
      ]
     },
     "execution_count": 28,
     "metadata": {},
     "output_type": "execute_result"
    }
   ],
   "source": [
    "listar"
   ]
  },
  {
   "cell_type": "code",
   "execution_count": 29,
   "id": "6d501bfe-e022-4e53-b2f4-7e6bc2817684",
   "metadata": {},
   "outputs": [
    {
     "data": {
      "text/plain": [
       "array({67, 35, 68, 23, 44}, dtype=object)"
      ]
     },
     "execution_count": 29,
     "metadata": {},
     "output_type": "execute_result"
    }
   ],
   "source": [
    "np.array({23,44,67,35,68})"
   ]
  },
  {
   "cell_type": "markdown",
   "id": "03b7724b-ada8-43bf-9f58-a0eb63cf3455",
   "metadata": {},
   "source": [
    "# Conversion from other Python structures (e.g., lists, tuples)\n",
    "# Intrinsic numpy array array creation objects (e.g., arange, ones, zeros, etc.)"
   ]
  },
  {
   "cell_type": "code",
   "execution_count": 30,
   "id": "16d328c6-eb3d-43d4-9a35-3e7b1d596747",
   "metadata": {},
   "outputs": [],
   "source": [
    "arzero = np.zeros((2,5))"
   ]
  },
  {
   "cell_type": "code",
   "execution_count": 31,
   "id": "3eac1a88-1f83-4ffe-9e61-6b5061346444",
   "metadata": {},
   "outputs": [
    {
     "data": {
      "text/plain": [
       "array([[0., 0., 0., 0., 0.],\n",
       "       [0., 0., 0., 0., 0.]])"
      ]
     },
     "execution_count": 31,
     "metadata": {},
     "output_type": "execute_result"
    }
   ],
   "source": [
    "arzero"
   ]
  },
  {
   "cell_type": "code",
   "execution_count": 32,
   "id": "f7e64c15-d966-4df7-baad-64707b54db49",
   "metadata": {},
   "outputs": [
    {
     "data": {
      "text/plain": [
       "dtype('float64')"
      ]
     },
     "execution_count": 32,
     "metadata": {},
     "output_type": "execute_result"
    }
   ],
   "source": [
    "arzero.dtype"
   ]
  },
  {
   "cell_type": "code",
   "execution_count": 33,
   "id": "b79b6794-4e3c-4d57-ad71-4edd69594e8c",
   "metadata": {},
   "outputs": [
    {
     "data": {
      "text/plain": [
       "10"
      ]
     },
     "execution_count": 33,
     "metadata": {},
     "output_type": "execute_result"
    }
   ],
   "source": [
    "arzero.size"
   ]
  },
  {
   "cell_type": "code",
   "execution_count": 34,
   "id": "80773a1d-2716-4368-9092-59af1581999d",
   "metadata": {},
   "outputs": [
    {
     "data": {
      "text/plain": [
       "(2, 5)"
      ]
     },
     "execution_count": 34,
     "metadata": {},
     "output_type": "execute_result"
    }
   ],
   "source": [
    "arzero.shape"
   ]
  },
  {
   "cell_type": "code",
   "execution_count": 35,
   "id": "96bf448e-4cf8-44f1-8f29-1dd731eada3f",
   "metadata": {},
   "outputs": [],
   "source": [
    "arone = np.ones((2,5))"
   ]
  },
  {
   "cell_type": "code",
   "execution_count": 36,
   "id": "eee2f928-db88-4a96-a43a-04dd6cd85af5",
   "metadata": {},
   "outputs": [
    {
     "data": {
      "text/plain": [
       "array([[1., 1., 1., 1., 1.],\n",
       "       [1., 1., 1., 1., 1.]])"
      ]
     },
     "execution_count": 36,
     "metadata": {},
     "output_type": "execute_result"
    }
   ],
   "source": [
    "arone"
   ]
  },
  {
   "cell_type": "code",
   "execution_count": 37,
   "id": "696a450d-4320-4e2a-97cf-4cb3e72f80cd",
   "metadata": {},
   "outputs": [
    {
     "data": {
      "text/plain": [
       "array([[1., 1., 1., 1., 1.],\n",
       "       [1., 1., 1., 1., 1.]])"
      ]
     },
     "execution_count": 37,
     "metadata": {},
     "output_type": "execute_result"
    }
   ],
   "source": [
    "arone"
   ]
  },
  {
   "cell_type": "code",
   "execution_count": 38,
   "id": "bf59350e-3f05-4e67-92fc-9d415cbf0092",
   "metadata": {},
   "outputs": [
    {
     "data": {
      "text/plain": [
       "(5,)"
      ]
     },
     "execution_count": 38,
     "metadata": {},
     "output_type": "execute_result"
    }
   ],
   "source": [
    "ar.shape"
   ]
  },
  {
   "cell_type": "code",
   "execution_count": 39,
   "id": "8838e470-3ea1-4dc5-9123-a8c05769f182",
   "metadata": {},
   "outputs": [
    {
     "data": {
      "text/plain": [
       "5"
      ]
     },
     "execution_count": 39,
     "metadata": {},
     "output_type": "execute_result"
    }
   ],
   "source": [
    "ar.size"
   ]
  },
  {
   "cell_type": "code",
   "execution_count": 40,
   "id": "c339c04a-6ed8-465f-94c4-dcd927807259",
   "metadata": {},
   "outputs": [
    {
     "data": {
      "text/plain": [
       "dtype('int32')"
      ]
     },
     "execution_count": 40,
     "metadata": {},
     "output_type": "execute_result"
    }
   ],
   "source": [
    "ar.dtype"
   ]
  },
  {
   "cell_type": "code",
   "execution_count": 41,
   "id": "f217ae30-e8cc-48b7-a64c-9d348e5c21a7",
   "metadata": {},
   "outputs": [],
   "source": [
    "rang = np.arange(9)"
   ]
  },
  {
   "cell_type": "code",
   "execution_count": 42,
   "id": "bb316a71-071a-4623-8fcf-2b1e80052f7e",
   "metadata": {},
   "outputs": [
    {
     "data": {
      "text/plain": [
       "array([0, 1, 2, 3, 4, 5, 6, 7, 8])"
      ]
     },
     "execution_count": 42,
     "metadata": {},
     "output_type": "execute_result"
    }
   ],
   "source": [
    "rang"
   ]
  },
  {
   "cell_type": "code",
   "execution_count": 43,
   "id": "7b4f1629-288c-41d1-830f-9fb6f6404eed",
   "metadata": {},
   "outputs": [
    {
     "data": {
      "text/plain": [
       "array([[0, 1, 2],\n",
       "       [3, 4, 5],\n",
       "       [6, 7, 8]])"
      ]
     },
     "execution_count": 43,
     "metadata": {},
     "output_type": "execute_result"
    }
   ],
   "source": [
    "rang.reshape(3,3)"
   ]
  },
  {
   "cell_type": "code",
   "execution_count": 44,
   "id": "e92a0156-a725-4d13-82a6-f9fc62c82fc4",
   "metadata": {},
   "outputs": [
    {
     "data": {
      "text/plain": [
       "array([0, 1, 2, 3, 4, 5, 6, 7, 8])"
      ]
     },
     "execution_count": 44,
     "metadata": {},
     "output_type": "execute_result"
    }
   ],
   "source": [
    "rang"
   ]
  },
  {
   "cell_type": "code",
   "execution_count": 45,
   "id": "62d39414-a452-45b8-ae99-ca6aaa9d9e19",
   "metadata": {},
   "outputs": [],
   "source": [
    "r1 = rang.reshape(3,3)"
   ]
  },
  {
   "cell_type": "code",
   "execution_count": 46,
   "id": "a7f2f518-ba10-4853-8a27-a3e6437ab4c7",
   "metadata": {},
   "outputs": [
    {
     "data": {
      "text/plain": [
       "array([[0, 1, 2],\n",
       "       [3, 4, 5],\n",
       "       [6, 7, 8]])"
      ]
     },
     "execution_count": 46,
     "metadata": {},
     "output_type": "execute_result"
    }
   ],
   "source": [
    "r1"
   ]
  },
  {
   "cell_type": "code",
   "execution_count": 47,
   "id": "de378f7b-0e2f-4273-8e2e-3cd66ae8e617",
   "metadata": {},
   "outputs": [
    {
     "data": {
      "text/plain": [
       "array([0, 1, 2, 3, 4, 5, 6, 7, 8])"
      ]
     },
     "execution_count": 47,
     "metadata": {},
     "output_type": "execute_result"
    }
   ],
   "source": [
    "r1.ravel()"
   ]
  },
  {
   "cell_type": "code",
   "execution_count": null,
   "id": "a9212ba9-ef94-4ca1-909e-758fd94bbf22",
   "metadata": {},
   "outputs": [],
   "source": []
  },
  {
   "cell_type": "code",
   "execution_count": null,
   "id": "c9aef6b4-858b-4153-9896-53be4724eaf9",
   "metadata": {},
   "outputs": [],
   "source": []
  },
  {
   "cell_type": "code",
   "execution_count": 48,
   "id": "73855410-76f4-436b-93d7-9989b3bd0acd",
   "metadata": {},
   "outputs": [],
   "source": [
    "rang1 = np.arange(5,10)"
   ]
  },
  {
   "cell_type": "code",
   "execution_count": 49,
   "id": "f5c2a30c-5b86-4fe8-a83c-d815dbaf95da",
   "metadata": {},
   "outputs": [
    {
     "data": {
      "text/plain": [
       "array([5, 6, 7, 8, 9])"
      ]
     },
     "execution_count": 49,
     "metadata": {},
     "output_type": "execute_result"
    }
   ],
   "source": [
    "rang1"
   ]
  },
  {
   "cell_type": "code",
   "execution_count": 50,
   "id": "054cf56c-9f1a-4d9d-8219-42b26085c43e",
   "metadata": {},
   "outputs": [],
   "source": [
    "rang2 = np.arange(1,10,3)"
   ]
  },
  {
   "cell_type": "code",
   "execution_count": 51,
   "id": "51467c8c-050e-49cb-bb38-a0474b793fcf",
   "metadata": {},
   "outputs": [
    {
     "data": {
      "text/plain": [
       "array([1, 4, 7])"
      ]
     },
     "execution_count": 51,
     "metadata": {},
     "output_type": "execute_result"
    }
   ],
   "source": [
    "rang2"
   ]
  },
  {
   "cell_type": "code",
   "execution_count": 52,
   "id": "568b1472-8742-4eee-bc3c-95e32f16a1ea",
   "metadata": {},
   "outputs": [
    {
     "data": {
      "text/plain": [
       "dtype('int32')"
      ]
     },
     "execution_count": 52,
     "metadata": {},
     "output_type": "execute_result"
    }
   ],
   "source": [
    "rang2.dtype"
   ]
  },
  {
   "cell_type": "code",
   "execution_count": 53,
   "id": "7b97003c-25bc-4dba-bab7-8ed2f7a14fdf",
   "metadata": {},
   "outputs": [
    {
     "data": {
      "text/plain": [
       "3"
      ]
     },
     "execution_count": 53,
     "metadata": {},
     "output_type": "execute_result"
    }
   ],
   "source": [
    "rang2.size"
   ]
  },
  {
   "cell_type": "code",
   "execution_count": 54,
   "id": "5205cb60-89b8-42c4-9caa-417dce1d38b8",
   "metadata": {},
   "outputs": [
    {
     "data": {
      "text/plain": [
       "(3,)"
      ]
     },
     "execution_count": 54,
     "metadata": {},
     "output_type": "execute_result"
    }
   ],
   "source": [
    "rang2.shape"
   ]
  },
  {
   "cell_type": "code",
   "execution_count": 55,
   "id": "a6cef751-df6b-4b5b-b1e7-16cecc812a67",
   "metadata": {},
   "outputs": [],
   "source": [
    "lspace = np.linspace(1,5,12)"
   ]
  },
  {
   "cell_type": "code",
   "execution_count": 56,
   "id": "e3b92caa-78cc-4235-b8e9-6b43120974f5",
   "metadata": {},
   "outputs": [
    {
     "data": {
      "text/plain": [
       "array([1.        , 1.36363636, 1.72727273, 2.09090909, 2.45454545,\n",
       "       2.81818182, 3.18181818, 3.54545455, 3.90909091, 4.27272727,\n",
       "       4.63636364, 5.        ])"
      ]
     },
     "execution_count": 56,
     "metadata": {},
     "output_type": "execute_result"
    }
   ],
   "source": [
    "lspace"
   ]
  },
  {
   "cell_type": "code",
   "execution_count": 57,
   "id": "e7b28fbc-7948-48da-9117-e4a24333712b",
   "metadata": {},
   "outputs": [],
   "source": [
    "lspace1 = np.linspace(1,3,5)"
   ]
  },
  {
   "cell_type": "code",
   "execution_count": 58,
   "id": "238f52cc-3e70-4e71-b0ca-73bcd8a69391",
   "metadata": {},
   "outputs": [
    {
     "data": {
      "text/plain": [
       "array([1. , 1.5, 2. , 2.5, 3. ])"
      ]
     },
     "execution_count": 58,
     "metadata": {},
     "output_type": "execute_result"
    }
   ],
   "source": [
    "lspace1"
   ]
  },
  {
   "cell_type": "code",
   "execution_count": 59,
   "id": "e6c82277-0752-4e67-b69d-66cc4b2d9a95",
   "metadata": {},
   "outputs": [
    {
     "data": {
      "text/plain": [
       "dtype('float64')"
      ]
     },
     "execution_count": 59,
     "metadata": {},
     "output_type": "execute_result"
    }
   ],
   "source": [
    "lspace1.dtype"
   ]
  },
  {
   "cell_type": "code",
   "execution_count": 60,
   "id": "e5d7b572-45fa-4ff9-a85d-dbc72f0878a5",
   "metadata": {},
   "outputs": [
    {
     "data": {
      "text/plain": [
       "5"
      ]
     },
     "execution_count": 60,
     "metadata": {},
     "output_type": "execute_result"
    }
   ],
   "source": [
    "lspace1.size"
   ]
  },
  {
   "cell_type": "code",
   "execution_count": 61,
   "id": "c7b32a1c-0af2-4799-9cd8-e4079f9c5eae",
   "metadata": {},
   "outputs": [
    {
     "data": {
      "text/plain": [
       "(5,)"
      ]
     },
     "execution_count": 61,
     "metadata": {},
     "output_type": "execute_result"
    }
   ],
   "source": [
    "lspace1.shape"
   ]
  },
  {
   "cell_type": "code",
   "execution_count": 62,
   "id": "166990ee-64c0-432b-ba5a-ca3d19f3b363",
   "metadata": {},
   "outputs": [],
   "source": [
    "# empty give you a ramdom elements of array\n",
    "emp = np.empty((2,5))"
   ]
  },
  {
   "cell_type": "code",
   "execution_count": 63,
   "id": "dddd69f7-64d4-40b2-b996-e036221c81cb",
   "metadata": {},
   "outputs": [
    {
     "data": {
      "text/plain": [
       "array([[1., 1., 1., 1., 1.],\n",
       "       [1., 1., 1., 1., 1.]])"
      ]
     },
     "execution_count": 63,
     "metadata": {},
     "output_type": "execute_result"
    }
   ],
   "source": [
    "emp"
   ]
  },
  {
   "cell_type": "code",
   "execution_count": 64,
   "id": "796be49f-a881-4353-b4df-51770ed9c079",
   "metadata": {},
   "outputs": [],
   "source": [
    "emp_like = np.empty_like(emp)"
   ]
  },
  {
   "cell_type": "code",
   "execution_count": 65,
   "id": "7de95dab-8dab-4a46-8f8f-27953194e77e",
   "metadata": {},
   "outputs": [
    {
     "data": {
      "text/plain": [
       "array([[1., 1., 1., 1., 1.],\n",
       "       [1., 1., 1., 1., 1.]])"
      ]
     },
     "execution_count": 65,
     "metadata": {},
     "output_type": "execute_result"
    }
   ],
   "source": [
    "emp_like"
   ]
  },
  {
   "cell_type": "code",
   "execution_count": 66,
   "id": "9b8076ff-862f-41bc-9b7f-7ccf53a3a4a4",
   "metadata": {},
   "outputs": [],
   "source": [
    "ide = np.identity(10)"
   ]
  },
  {
   "cell_type": "code",
   "execution_count": 67,
   "id": "b5c4abdc-eb33-439c-b21b-6063cd8fdb9e",
   "metadata": {},
   "outputs": [
    {
     "data": {
      "text/plain": [
       "array([[1., 0., 0., 0., 0., 0., 0., 0., 0., 0.],\n",
       "       [0., 1., 0., 0., 0., 0., 0., 0., 0., 0.],\n",
       "       [0., 0., 1., 0., 0., 0., 0., 0., 0., 0.],\n",
       "       [0., 0., 0., 1., 0., 0., 0., 0., 0., 0.],\n",
       "       [0., 0., 0., 0., 1., 0., 0., 0., 0., 0.],\n",
       "       [0., 0., 0., 0., 0., 1., 0., 0., 0., 0.],\n",
       "       [0., 0., 0., 0., 0., 0., 1., 0., 0., 0.],\n",
       "       [0., 0., 0., 0., 0., 0., 0., 1., 0., 0.],\n",
       "       [0., 0., 0., 0., 0., 0., 0., 0., 1., 0.],\n",
       "       [0., 0., 0., 0., 0., 0., 0., 0., 0., 1.]])"
      ]
     },
     "execution_count": 67,
     "metadata": {},
     "output_type": "execute_result"
    }
   ],
   "source": [
    "ide"
   ]
  },
  {
   "cell_type": "code",
   "execution_count": 68,
   "id": "21e03bcc-6648-4226-b7dc-f8cd74140190",
   "metadata": {},
   "outputs": [
    {
     "data": {
      "text/plain": [
       "(10, 10)"
      ]
     },
     "execution_count": 68,
     "metadata": {},
     "output_type": "execute_result"
    }
   ],
   "source": [
    "ide.shape"
   ]
  },
  {
   "cell_type": "code",
   "execution_count": 69,
   "id": "781a6377-39fc-4133-afb4-6c3bdf56f527",
   "metadata": {},
   "outputs": [
    {
     "data": {
      "text/plain": [
       "100"
      ]
     },
     "execution_count": 69,
     "metadata": {},
     "output_type": "execute_result"
    }
   ],
   "source": [
    "ide.size"
   ]
  },
  {
   "cell_type": "code",
   "execution_count": 70,
   "id": "a892f271-37f6-4f8b-9373-6072910358a3",
   "metadata": {},
   "outputs": [
    {
     "data": {
      "text/plain": [
       "dtype('float64')"
      ]
     },
     "execution_count": 70,
     "metadata": {},
     "output_type": "execute_result"
    }
   ],
   "source": [
    "ide.dtype"
   ]
  },
  {
   "cell_type": "markdown",
   "id": "0f6a0c0a-1b64-4b8c-9278-1315c4cd6c82",
   "metadata": {},
   "source": [
    "# 1D Array = [23,56,35,86,76]  Axis 0    Rows\n",
    "# 2D Array = [[12,32,43],[55,67,24],[68,87,78]]   Axis 1    Columns"
   ]
  },
  {
   "cell_type": "code",
   "execution_count": 71,
   "id": "20d5c1e4-8781-4111-9bbe-255dd9e6871b",
   "metadata": {},
   "outputs": [],
   "source": [
    "a = np.array([[2,3,5],[1,2,3],[3,5,3]])"
   ]
  },
  {
   "cell_type": "code",
   "execution_count": 72,
   "id": "426ed462-4d84-49e9-b593-fda97393c997",
   "metadata": {},
   "outputs": [
    {
     "data": {
      "text/plain": [
       "array([[2, 3, 5],\n",
       "       [1, 2, 3],\n",
       "       [3, 5, 3]])"
      ]
     },
     "execution_count": 72,
     "metadata": {},
     "output_type": "execute_result"
    }
   ],
   "source": [
    "a"
   ]
  },
  {
   "cell_type": "code",
   "execution_count": 73,
   "id": "5ab75f1d-5ffc-4c0e-8de6-59f94cfac58b",
   "metadata": {},
   "outputs": [
    {
     "data": {
      "text/plain": [
       "array([ 6, 10, 11])"
      ]
     },
     "execution_count": 73,
     "metadata": {},
     "output_type": "execute_result"
    }
   ],
   "source": [
    "a.sum(axis = 0)"
   ]
  },
  {
   "cell_type": "code",
   "execution_count": 74,
   "id": "e70d6c0d-395b-42fd-927f-14894ad9cc19",
   "metadata": {},
   "outputs": [
    {
     "data": {
      "text/plain": [
       "array([10,  6, 11])"
      ]
     },
     "execution_count": 74,
     "metadata": {},
     "output_type": "execute_result"
    }
   ],
   "source": [
    "a.sum(axis = 1)"
   ]
  },
  {
   "cell_type": "code",
   "execution_count": 75,
   "id": "b18cd748-626a-4a15-9dae-409791828756",
   "metadata": {},
   "outputs": [
    {
     "data": {
      "text/plain": [
       "array([[2, 1, 3],\n",
       "       [3, 2, 5],\n",
       "       [5, 3, 3]])"
      ]
     },
     "execution_count": 75,
     "metadata": {},
     "output_type": "execute_result"
    }
   ],
   "source": [
    "a.T"
   ]
  },
  {
   "cell_type": "code",
   "execution_count": 76,
   "id": "11725817-3d4d-4746-956e-8ebda66dd9b6",
   "metadata": {},
   "outputs": [
    {
     "data": {
      "text/plain": [
       "<numpy.flatiter at 0x1af5cad5550>"
      ]
     },
     "execution_count": 76,
     "metadata": {},
     "output_type": "execute_result"
    }
   ],
   "source": [
    "# flat give you a iterate\n",
    "a.flat"
   ]
  },
  {
   "cell_type": "code",
   "execution_count": 77,
   "id": "dbee6497-3f1f-4052-a6d3-0910eb4c8ecb",
   "metadata": {},
   "outputs": [
    {
     "name": "stdout",
     "output_type": "stream",
     "text": [
      "2\n",
      "3\n",
      "5\n",
      "1\n",
      "2\n",
      "3\n",
      "3\n",
      "5\n",
      "3\n"
     ]
    }
   ],
   "source": [
    "for i in a.flat:\n",
    "    print(i)"
   ]
  },
  {
   "cell_type": "code",
   "execution_count": 78,
   "id": "1c09ebdc-dc58-494d-a0a1-84f127502629",
   "metadata": {},
   "outputs": [
    {
     "data": {
      "text/plain": [
       "2"
      ]
     },
     "execution_count": 78,
     "metadata": {},
     "output_type": "execute_result"
    }
   ],
   "source": [
    "# ndim you the dimension of the Array\n",
    "a.ndim"
   ]
  },
  {
   "cell_type": "code",
   "execution_count": 79,
   "id": "ef4b59a7-405d-41ff-9551-456968aeb48f",
   "metadata": {},
   "outputs": [
    {
     "data": {
      "text/plain": [
       "9"
      ]
     },
     "execution_count": 79,
     "metadata": {},
     "output_type": "execute_result"
    }
   ],
   "source": [
    "a.size"
   ]
  },
  {
   "cell_type": "code",
   "execution_count": 80,
   "id": "86db9ce9-be68-4fc4-a146-91cf06e6a5f3",
   "metadata": {},
   "outputs": [
    {
     "data": {
      "text/plain": [
       "dtype('int32')"
      ]
     },
     "execution_count": 80,
     "metadata": {},
     "output_type": "execute_result"
    }
   ],
   "source": [
    "a.dtype"
   ]
  },
  {
   "cell_type": "code",
   "execution_count": 81,
   "id": "65d6991d-1894-4a04-82f7-17b77e57f223",
   "metadata": {},
   "outputs": [
    {
     "data": {
      "text/plain": [
       "(3, 3)"
      ]
     },
     "execution_count": 81,
     "metadata": {},
     "output_type": "execute_result"
    }
   ],
   "source": [
    "a.shape"
   ]
  },
  {
   "cell_type": "code",
   "execution_count": 82,
   "id": "8b6c3cc6-b3e0-48da-9a7b-abc41c105ccf",
   "metadata": {},
   "outputs": [
    {
     "data": {
      "text/plain": [
       "36"
      ]
     },
     "execution_count": 82,
     "metadata": {},
     "output_type": "execute_result"
    }
   ],
   "source": [
    "a.nbytes"
   ]
  },
  {
   "cell_type": "code",
   "execution_count": 83,
   "id": "132a8fbd-c258-4e58-94b5-000df94d4cb3",
   "metadata": {},
   "outputs": [],
   "source": [
    "a1 = np.array([4,2,6,1,7])"
   ]
  },
  {
   "cell_type": "code",
   "execution_count": 84,
   "id": "6e8e8a81-e4e8-43b8-842e-772f6dd5743c",
   "metadata": {},
   "outputs": [
    {
     "data": {
      "text/plain": [
       "array([4, 2, 6, 1, 7])"
      ]
     },
     "execution_count": 84,
     "metadata": {},
     "output_type": "execute_result"
    }
   ],
   "source": [
    "a1"
   ]
  },
  {
   "cell_type": "code",
   "execution_count": 85,
   "id": "2f1ff229-23e2-429e-a40e-101d0be33c32",
   "metadata": {},
   "outputs": [
    {
     "data": {
      "text/plain": [
       "4"
      ]
     },
     "execution_count": 85,
     "metadata": {},
     "output_type": "execute_result"
    }
   ],
   "source": [
    "# argmax give you the maximun element of index\n",
    "a1.argmax()"
   ]
  },
  {
   "cell_type": "code",
   "execution_count": 86,
   "id": "d0f977dd-d64b-44ae-b019-c429187d64e8",
   "metadata": {},
   "outputs": [
    {
     "data": {
      "text/plain": [
       "3"
      ]
     },
     "execution_count": 86,
     "metadata": {},
     "output_type": "execute_result"
    }
   ],
   "source": [
    "a1.argmin()"
   ]
  },
  {
   "cell_type": "code",
   "execution_count": 87,
   "id": "63c7d47d-1402-4c6b-80ef-115bb9058f7c",
   "metadata": {},
   "outputs": [
    {
     "data": {
      "text/plain": [
       "array([3, 1, 0, 2, 4], dtype=int64)"
      ]
     },
     "execution_count": 87,
     "metadata": {},
     "output_type": "execute_result"
    }
   ],
   "source": [
    "a1.argsort()"
   ]
  },
  {
   "cell_type": "code",
   "execution_count": 88,
   "id": "ad777406-add0-4127-b037-66e7928bd907",
   "metadata": {},
   "outputs": [],
   "source": [
    "a = np.array([[2,3,5],[1,2,3],[3,5,3]])"
   ]
  },
  {
   "cell_type": "code",
   "execution_count": 89,
   "id": "ae98f89c-732a-45b0-8f3c-4eea234281ba",
   "metadata": {},
   "outputs": [
    {
     "data": {
      "text/plain": [
       "array([[2, 3, 5],\n",
       "       [1, 2, 3],\n",
       "       [3, 5, 3]])"
      ]
     },
     "execution_count": 89,
     "metadata": {},
     "output_type": "execute_result"
    }
   ],
   "source": [
    "a"
   ]
  },
  {
   "cell_type": "code",
   "execution_count": 90,
   "id": "31fb0da1-2098-4f3c-8fcd-9466776f2967",
   "metadata": {},
   "outputs": [
    {
     "data": {
      "text/plain": [
       "2"
      ]
     },
     "execution_count": 90,
     "metadata": {},
     "output_type": "execute_result"
    }
   ],
   "source": [
    "a.argmax()"
   ]
  },
  {
   "cell_type": "code",
   "execution_count": 91,
   "id": "4f3fe6e8-198e-4f41-8de6-c2b1a9f730cb",
   "metadata": {},
   "outputs": [
    {
     "data": {
      "text/plain": [
       "3"
      ]
     },
     "execution_count": 91,
     "metadata": {},
     "output_type": "execute_result"
    }
   ],
   "source": [
    "a.argmin()"
   ]
  },
  {
   "cell_type": "code",
   "execution_count": 92,
   "id": "a234eacb-1af7-4657-b58f-9ff1fbd8d166",
   "metadata": {},
   "outputs": [
    {
     "data": {
      "text/plain": [
       "array([2, 2, 0], dtype=int64)"
      ]
     },
     "execution_count": 92,
     "metadata": {},
     "output_type": "execute_result"
    }
   ],
   "source": [
    "a.argmax(axis = 0)"
   ]
  },
  {
   "cell_type": "code",
   "execution_count": 93,
   "id": "497df89b-0c32-47f4-b908-14469a3147b8",
   "metadata": {},
   "outputs": [
    {
     "data": {
      "text/plain": [
       "array([2, 2, 1], dtype=int64)"
      ]
     },
     "execution_count": 93,
     "metadata": {},
     "output_type": "execute_result"
    }
   ],
   "source": [
    "a.argmax(axis = 1)"
   ]
  },
  {
   "cell_type": "code",
   "execution_count": 94,
   "id": "2667d832-3660-4d54-a6ef-eea9de074d5d",
   "metadata": {},
   "outputs": [
    {
     "data": {
      "text/plain": [
       "array([2, 2, 1], dtype=int64)"
      ]
     },
     "execution_count": 94,
     "metadata": {},
     "output_type": "execute_result"
    }
   ],
   "source": [
    "a.argmax(axis = 1)"
   ]
  },
  {
   "cell_type": "code",
   "execution_count": 95,
   "id": "d156b368-e6c0-4573-8d15-a8259c26b7aa",
   "metadata": {},
   "outputs": [
    {
     "data": {
      "text/plain": [
       "array([0, 0, 0], dtype=int64)"
      ]
     },
     "execution_count": 95,
     "metadata": {},
     "output_type": "execute_result"
    }
   ],
   "source": [
    "a.argmin(axis = 1)"
   ]
  },
  {
   "cell_type": "code",
   "execution_count": 96,
   "id": "d5d7eb87-e3b5-490d-bed6-678b5e4546ba",
   "metadata": {},
   "outputs": [
    {
     "data": {
      "text/plain": [
       "array([[1, 1, 1],\n",
       "       [0, 0, 2],\n",
       "       [2, 2, 0]], dtype=int64)"
      ]
     },
     "execution_count": 96,
     "metadata": {},
     "output_type": "execute_result"
    }
   ],
   "source": [
    "a.argsort(axis = 0)"
   ]
  },
  {
   "cell_type": "code",
   "execution_count": 97,
   "id": "660480b0-e022-464a-97c1-c2873df52e8d",
   "metadata": {},
   "outputs": [
    {
     "data": {
      "text/plain": [
       "array([[0, 1, 2],\n",
       "       [0, 1, 2],\n",
       "       [0, 2, 1]], dtype=int64)"
      ]
     },
     "execution_count": 97,
     "metadata": {},
     "output_type": "execute_result"
    }
   ],
   "source": [
    "a.argsort(axis = 1)"
   ]
  },
  {
   "cell_type": "code",
   "execution_count": 98,
   "id": "1fa67e22-0280-471b-8cc5-8f37412d266d",
   "metadata": {},
   "outputs": [],
   "source": [
    "a = np.array([[2,3,5],[1,2,3],[3,5,3]])"
   ]
  },
  {
   "cell_type": "code",
   "execution_count": 99,
   "id": "1eb0744a-686f-4246-abcc-4baa450d4557",
   "metadata": {},
   "outputs": [
    {
     "data": {
      "text/plain": [
       "array([[2, 3, 5],\n",
       "       [1, 2, 3],\n",
       "       [3, 5, 3]])"
      ]
     },
     "execution_count": 99,
     "metadata": {},
     "output_type": "execute_result"
    }
   ],
   "source": [
    "a"
   ]
  },
  {
   "cell_type": "code",
   "execution_count": 100,
   "id": "8a9041b9-feca-422b-b4eb-46f278a08ae5",
   "metadata": {},
   "outputs": [],
   "source": [
    "aa = np.array([[2,1,3],[1,3,4],[2,4,1]])"
   ]
  },
  {
   "cell_type": "code",
   "execution_count": 101,
   "id": "8e2e37aa-5b1b-4ec8-a79e-0a70763a45fa",
   "metadata": {},
   "outputs": [
    {
     "data": {
      "text/plain": [
       "array([[2, 1, 3],\n",
       "       [1, 3, 4],\n",
       "       [2, 4, 1]])"
      ]
     },
     "execution_count": 101,
     "metadata": {},
     "output_type": "execute_result"
    }
   ],
   "source": [
    "aa"
   ]
  },
  {
   "cell_type": "code",
   "execution_count": 102,
   "id": "c195dd2a-9a11-40bd-bb8c-9b7c3793b594",
   "metadata": {},
   "outputs": [
    {
     "data": {
      "text/plain": [
       "array([[4, 4, 8],\n",
       "       [2, 5, 7],\n",
       "       [5, 9, 4]])"
      ]
     },
     "execution_count": 102,
     "metadata": {},
     "output_type": "execute_result"
    }
   ],
   "source": [
    "a + aa"
   ]
  },
  {
   "cell_type": "code",
   "execution_count": 103,
   "id": "008cb55d-c0ac-44d2-a736-3e47ba9ca6b2",
   "metadata": {},
   "outputs": [
    {
     "data": {
      "text/plain": [
       "[1, 2, 3, 2, 4, 6]"
      ]
     },
     "execution_count": 103,
     "metadata": {},
     "output_type": "execute_result"
    }
   ],
   "source": [
    "[1,2,3] + [2,4,6]"
   ]
  },
  {
   "cell_type": "code",
   "execution_count": 104,
   "id": "6690be96-40d0-495a-ac61-fd8e32de5ce0",
   "metadata": {},
   "outputs": [
    {
     "data": {
      "text/plain": [
       "array([[1.41421356, 1.        , 1.73205081],\n",
       "       [1.        , 1.73205081, 2.        ],\n",
       "       [1.41421356, 2.        , 1.        ]])"
      ]
     },
     "execution_count": 104,
     "metadata": {},
     "output_type": "execute_result"
    }
   ],
   "source": [
    "# sqrt you give the square root of the elements \n",
    "np.sqrt(aa)"
   ]
  },
  {
   "cell_type": "code",
   "execution_count": 105,
   "id": "8118d483-4688-4126-9124-022c958754ef",
   "metadata": {},
   "outputs": [],
   "source": [
    "aa = np.array([[2,1,3],[1,3,4],[2,4,1]])"
   ]
  },
  {
   "cell_type": "code",
   "execution_count": 106,
   "id": "22dfa6c7-421c-451b-ae6a-02a2286ca489",
   "metadata": {},
   "outputs": [
    {
     "data": {
      "text/plain": [
       "array([[2, 1, 3],\n",
       "       [1, 3, 4],\n",
       "       [2, 4, 1]])"
      ]
     },
     "execution_count": 106,
     "metadata": {},
     "output_type": "execute_result"
    }
   ],
   "source": [
    "aa"
   ]
  },
  {
   "cell_type": "code",
   "execution_count": 107,
   "id": "ea401cca-42e9-48a8-93ad-86ef8a2db092",
   "metadata": {},
   "outputs": [
    {
     "data": {
      "text/plain": [
       "21"
      ]
     },
     "execution_count": 107,
     "metadata": {},
     "output_type": "execute_result"
    }
   ],
   "source": [
    "aa.sum()"
   ]
  },
  {
   "cell_type": "code",
   "execution_count": 108,
   "id": "bbe2d2da-4de4-41f8-a5de-711c87d975b8",
   "metadata": {},
   "outputs": [
    {
     "data": {
      "text/plain": [
       "4"
      ]
     },
     "execution_count": 108,
     "metadata": {},
     "output_type": "execute_result"
    }
   ],
   "source": [
    "aa.max()"
   ]
  },
  {
   "cell_type": "code",
   "execution_count": 109,
   "id": "8e252309-00df-4816-bf30-78bac7a709d3",
   "metadata": {},
   "outputs": [
    {
     "data": {
      "text/plain": [
       "1"
      ]
     },
     "execution_count": 109,
     "metadata": {},
     "output_type": "execute_result"
    }
   ],
   "source": [
    "aa.min()"
   ]
  },
  {
   "cell_type": "code",
   "execution_count": 110,
   "id": "74944d7d-e8af-4780-a3f7-ae46afa60e50",
   "metadata": {},
   "outputs": [
    {
     "data": {
      "text/plain": [
       "(array([1, 2], dtype=int64), array([2, 1], dtype=int64))"
      ]
     },
     "execution_count": 110,
     "metadata": {},
     "output_type": "execute_result"
    }
   ],
   "source": [
    "np.where(aa>3)"
   ]
  },
  {
   "cell_type": "code",
   "execution_count": 111,
   "id": "aee5b529-e1f5-4245-90aa-0a184c5b3408",
   "metadata": {},
   "outputs": [
    {
     "data": {
      "text/plain": [
       "(array([0, 1, 2], dtype=int64), array([1, 0, 2], dtype=int64))"
      ]
     },
     "execution_count": 111,
     "metadata": {},
     "output_type": "execute_result"
    }
   ],
   "source": [
    "np.where(aa<2)"
   ]
  },
  {
   "cell_type": "code",
   "execution_count": 112,
   "id": "5731b138-31b2-4a07-9188-5cd48c123975",
   "metadata": {},
   "outputs": [
    {
     "data": {
      "text/plain": [
       "9"
      ]
     },
     "execution_count": 112,
     "metadata": {},
     "output_type": "execute_result"
    }
   ],
   "source": [
    "# count_nonzero  give the nonzero elements\n",
    "np.count_nonzero(aa)"
   ]
  },
  {
   "cell_type": "code",
   "execution_count": 113,
   "id": "00b4dbbe-b0b8-4261-ab7e-63f606a4e685",
   "metadata": {},
   "outputs": [
    {
     "data": {
      "text/plain": [
       "(array([0, 0, 0, 1, 1, 1, 2, 2, 2], dtype=int64),\n",
       " array([0, 1, 2, 0, 1, 2, 0, 1, 2], dtype=int64))"
      ]
     },
     "execution_count": 113,
     "metadata": {},
     "output_type": "execute_result"
    }
   ],
   "source": [
    "np.nonzero(aa)"
   ]
  },
  {
   "cell_type": "code",
   "execution_count": 114,
   "id": "6e46542f-b11d-4775-9ad7-a243744bd067",
   "metadata": {},
   "outputs": [
    {
     "data": {
      "text/plain": [
       "4"
      ]
     },
     "execution_count": 114,
     "metadata": {},
     "output_type": "execute_result"
    }
   ],
   "source": [
    "aa.itemsize"
   ]
  },
  {
   "cell_type": "code",
   "execution_count": 115,
   "id": "d9026df1-2244-44cc-9229-bfeae29d241c",
   "metadata": {},
   "outputs": [
    {
     "data": {
      "text/plain": [
       "9"
      ]
     },
     "execution_count": 115,
     "metadata": {},
     "output_type": "execute_result"
    }
   ],
   "source": [
    "aa.size"
   ]
  },
  {
   "cell_type": "code",
   "execution_count": 116,
   "id": "5a778b87-8c26-49f8-9759-899fa1afa719",
   "metadata": {},
   "outputs": [
    {
     "data": {
      "text/plain": [
       "36"
      ]
     },
     "execution_count": 116,
     "metadata": {},
     "output_type": "execute_result"
    }
   ],
   "source": [
    "# find the size of Array\n",
    "aa.itemsize * aa.size"
   ]
  },
  {
   "cell_type": "markdown",
   "id": "2812b8af-9dc9-459a-9814-5eb1d2ff1ba3",
   "metadata": {},
   "source": [
    "# Thank You ! You Watched this Video at the END "
   ]
  },
  {
   "cell_type": "markdown",
   "id": "c7d86819-b97d-4caa-9e61-f1d7d1149a08",
   "metadata": {},
   "source": [
    "# Maybe This Video is Very Helpful for You"
   ]
  },
  {
   "cell_type": "markdown",
   "id": "c783a7c8-4a6f-46fc-9ba1-37c8081da019",
   "metadata": {},
   "source": [
    "# Please Subscribe the Channel Comment & Like Also ! "
   ]
  },
  {
   "cell_type": "markdown",
   "id": "caefe485-c302-4f81-a6ef-76df6afea368",
   "metadata": {},
   "source": [
    "#                                                          Thank You All  !"
   ]
  },
  {
   "cell_type": "code",
   "execution_count": null,
   "id": "deded436-b58f-4ff8-af2b-c646d62032e9",
   "metadata": {},
   "outputs": [],
   "source": []
  },
  {
   "cell_type": "code",
   "execution_count": null,
   "id": "93c26f45-88a3-47d5-86ac-0ca8bf4eebf0",
   "metadata": {},
   "outputs": [],
   "source": []
  }
 ],
 "metadata": {
  "kernelspec": {
   "display_name": "Python 3 (ipykernel)",
   "language": "python",
   "name": "python3"
  },
  "language_info": {
   "codemirror_mode": {
    "name": "ipython",
    "version": 3
   },
   "file_extension": ".py",
   "mimetype": "text/x-python",
   "name": "python",
   "nbconvert_exporter": "python",
   "pygments_lexer": "ipython3",
   "version": "3.12.3"
  }
 },
 "nbformat": 4,
 "nbformat_minor": 5
}
